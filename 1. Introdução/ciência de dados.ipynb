{
 "cells": [
  {
   "cell_type": "markdown",
   "metadata": {},
   "source": [
    "# Tudo sobre Ciência de Dados"
   ]
  },
  {
   "cell_type": "markdown",
   "metadata": {},
   "source": [
    "### O que é Ciência de Dados\n",
    "\n",
    "- Ciência de Dados é uma área que combina técnicas de matemática, estatística, computação, aprendizado de máquina e conhecimento de domínio (contexto da aplicação) para extrair insights (informações valiosas), proporcionando conhecimento sobre os dados.\n",
    "\n",
    "- Ela envolve todo o processo de trabalho com dados: desde a coleta, organização e tratamento, até a análise e interpretação dos resultados, tendo como objetivo apoiar a tomada de decisões, descobrir padrões ocultos e prever comportamentos futuros.\n",
    "\n",
    "- Podemos usar um exemplo: os dados são como o petróleo — sozinhos, não têm valor algum. Porém, quando refinados (utilizando técnicas da Ciência de Dados), transformam-se em um produto extremamente valioso."
   ]
  },
  {
   "cell_type": "markdown",
   "metadata": {
    "vscode": {
     "languageId": "plaintext"
    }
   },
   "source": [
    "### Os 3 pilares da Ciência de Dados\n",
    "\n",
    "![3 Pilares](imagens/1.%203_pilares.png)\n",
    "\n",
    "- **Tecnologia**\n",
    "    - Refere-se ao uso de linguagens de programação (principalmente Python e R), ferramentas computacionais e ambientes de desenvolvimento. É por meio da tecnologia que todo o conhecimento teórico é colocado em prática, permitindo a coleta, armazenamento, manipulação e modelagem dos dados em problemas reais.\n",
    "- **Negócio**\n",
    "    - Envolve o conhecimento de domínio, ou seja, entender profundamente o contexto da área onde o problema está inserido (como finanças, saúde e logística). Esse pilar é essencial para interpretar os dados de forma correta, identificar oportunidades e aplicar soluções que façam sentido para os objetivos estratéticos da organização.\n",
    "- **Matemática**\n",
    "    - Compreende o uso de conceitos estatísticos, álgebra linear, cálculo e outras áreas matemáticas para entender padrões, fazer inferências e desenvolver modelos analíticos. Esses fundamentos ajudam a garantir maior precisão nas análises e nas previsões."
   ]
  },
  {
   "cell_type": "markdown",
   "metadata": {},
   "source": [
    "### Estatística\n",
    "\n",
    "- A Estatística é uma das principais ferramentas da Ciência de Dados, pois permite lidar com a incerteza presente em praticamente todas as decisões do dia a dia. Ao escolher um prato no restaurante sem saber se ele é bom ou ao decidir em qual escola matricular seus filhos, estamos lidando com informações incompletas e é aí que a Estatística se torna essencial.\n",
    "\n",
    "- Trata-se de um ramo da matemática que envolve a coleta, organização, análise e interpretação de dados numéricos, permitindo realizar inferências com base em probabilidades. Ela é dividida em três áreas principais:\n",
    "\n",
    "    - **Análise Descritiva / Exploratória dos Dados**\n",
    "        - Refere-se à coleta, organização e visualização dos dados, permitindo um primeiro entendimento do conjunto de informações.\n",
    "\n",
    "    - **Probabilidade / Ciência da Incerteza**\n",
    "        - Usa leis matemáticas para quantificar a incerteza, sendo a base para a tomada de decisões mesmo com dados limitados.\n",
    "    \n",
    "    - **Estatística Inferencial**\n",
    "        - Permite tirar conclusões e realizar previsões a partir de amostras, usando o raciocínio probabilístico.\n",
    "\n",
    "- A Estatística está presente em diversas situações cotidianas e decisões estratégicas. Por exemplo, ao escolher qual campanha de marketing implementar, a Estatística ajuda a embasar a escolha mais eficiente com base em dados históricos e métricas de desempenho. Para isso, fazer as perguntas certas, como “o quê?”, “quem?”, “onde?” e “como?” é essencial."
   ]
  },
  {
   "cell_type": "markdown",
   "metadata": {},
   "source": [
    "### Big Data\n",
    "\n",
    "- Big Data refere-se ao conjunto de tecnologias, técnicas e práticas utilizadas para lidar com volumes massivos de dados que são gerados a uma velocidade cada vez maior e em formatos variados — os chamados 3 Vs do Big Data: Volume, Velocidade e Variedade. Esses dados podem vir de diversas fontes, como sensores, redes sociais, dispositivos IoT, sistemas corporativos, entre outros. No contexto moderno, empresas e organizações passaram a enxergar os dados como ativos estratégicos e passaram a investir em formas de coletar, armazenar, processar e analisar grandes quantidades de informações em tempo real. O objetivo principal é gerar valor a partir desses dados, seja melhorando operações, antecipando falhas, otimizando recursos ou oferecendo experiências mais personalizadas aos clientes.\n",
    "\n",
    "- É justamente nesse ponto que a Ciência de Dados entra como ferramenta fundamental: ela transforma esse volume bruto de dados em informações úteis e acionáveis, utilizando métodos estatísticos, algoritmos de aprendizado de máquina e técnicas de visualização. As aplicações de Big Data, como decisões orientadas por dados, automação inteligente e monetização de dados, só se tornam possíveis graças à atuação dos cientistas de dados. São eles que conseguem compreender o problema de negócio, preparar os dados, desenvolver modelos e traduzir os resultados em insights que impactam diretamente os processos estratégicos e operacionais."
   ]
  },
  {
   "cell_type": "markdown",
   "metadata": {},
   "source": [
    "### Pirâmide dos Dados\n",
    "\n",
    "![Pirâmide dos Dados](imagens/2.%20piramide.png)\n",
    "\n",
    "A pirâmide representa a transformação dos dados em inteligência de negócios. Dados brutos, que muitas vezes estão apenas em planilhas ou documentos, por si só não têm valor estratégico. O diferencial está em como esses dados são organizados, analisados e interpretados para gerar conhecimento e embasar decisões que trazem vantagem competitiva.\n",
    "\n",
    "- **Dados**\n",
    "    - Dados são registros brutos de eventos passados, onde isoladamente, não possuem significado algum - podem ser números, palavras ou sinais, sem contexto ou interpretação.\n",
    "\n",
    "- **Informações**\n",
    "    - A informação surge quando os dados são processados, organizados ou contextualizados. Ela permite responder perguntas como \"quem?\", \"quando?\" ou \"onde?\", trazendo um pouco mais de compreensão.\n",
    "\n",
    "- **Conhecimento**\n",
    "    - O conhecimento é gerado a partir da análise e interpretação das informações. É quando conseguimos entender o \"porquê\" das coisas, extraindo significado, padrões e relações entre os dados.\n",
    "\n",
    "- **Decisão**\n",
    "    - A decisão representa o nível mais alto da pirâmide. Aqui, o conhecimento é aplicado de forma estratégica, orientando ações que podem gerar vantagem competitiva, melhorias operacionais ou inovação.\n",
    "\n",
    "\n",
    "Um exemplo que ilustra bem toda a pirâmide é o de uma **loja de roupas**:\n",
    "\n",
    "- Em uma pequena loja de roupas, os **dados** são os registros brutos das vendas: dia, horário, peça vendida, quantidade e valor. Esses elementos, por si só, não dizem muito, mas são fundamentais para qualquer análise. Ao organizar e contextualizar esses dados, transformamos em **informação**, por exemplo, identificar que determinadas vendas ocorreram em finais de semana ou datas comemorativas, como o Dia dos Pais.\n",
    "\n",
    "- Com base nessas informações, podemos gerar **conhecimento**: ao observar padrões recorrentes, como o aumento nas vendas próximo ao Dia das Mães e dos Pais, a loja começa a entender o comportamento do consumidor. A partir daí, é possível alcançar a inteligência, ou seja, tomar **decisões** estratégicas baseadas nesse conhecimento. Se foi identificado que houve falta de estoque em datas comemorativas, a loja pode se preparar melhor no próximo ano, ajustando o estoque de produtos com alta demanda nesse período."
   ]
  },
  {
   "cell_type": "markdown",
   "metadata": {},
   "source": [
    "### Tipos de Estruturas de Dados\n",
    "\n",
    "![Tipos de Dados](imagens/3.%20tipos_dados.png)\n",
    "\n",
    "- **Dados Estruturados**\n",
    "    - São dados organizados em um formato padronizado, como tabelas ou planilhas, que facilitam a análise e o processamento.\n",
    "    \n",
    "    - Exemplos: registros de vendas, cadastros de clientes e informações armazenadas em bancos de dados relacionais.\n",
    "\n",
    "- **Dados Semiestruturados**\n",
    "    - Possuem alguma organização, mas não seguem o mesmo nível de rigidez dos dados estruturados. Eles não estão armazenados em bancos relacionais, mas ainda contêm marcadores ou tags que facilitam a identificação das informações.\n",
    "\n",
    "    - Exemplos: arquivos XML, JSON, logs de sistemas e alguns tipos de e-mails.\n",
    "\n",
    "- **Dados Não Estruturados**\n",
    "    - São dados que não possuem nenhuma estrutura predefinida, o que dificulta sua organização e análise automatizada.\n",
    "\n",
    "    - Exemplos: textos livres de e-mails, postagens em redes sociais, imagens, áudios, vídeos e transcrições de chamadas de atendimento ao cliente."
   ]
  },
  {
   "cell_type": "markdown",
   "metadata": {},
   "source": [
    "### Principais Problemas com Dados\n",
    "\n",
    "A qualidade dos dados é um fator crucial para garantir resultados confiáveis em projetos de Big Data. Dados inconsistentes, incompletos, duplicados ou desatualizados podem comprometer seriamente a precisão das análises e das decisões baseadas nelas. Por isso, é fundamental que as equipes de Ciência de Dados identifiquem e corrijam esses problemas durante o processo de tratamento dos dados, assegurando um alto padrão de qualidade. Um cientista de dados deve estar sempre atento a essas questões, pois a capacidade de extrair valor dos dados depende diretamente da sua integridade, precisão e consistência.\n",
    "\n",
    "Diante disso, esses são os principais problemas que um cientista de dados pode enfrentar com dados:\n",
    "\n",
    "- **Noise (Rúido)**\n",
    "    - Refere-se à presença de informações irrelevantes dentro do conjunto de dados, que podem dificultar a análise ou levar a interpretações incorretas. Por exemplo, ao coletar dados de vendas para entender os produtos mais vendidos, podem ser incluídas automaticamente informações extras, como taxas de transação ou identificadores internos do sistema, que não são úteis para essa análise específica e apenas atrapalham o foco da investigação.\n",
    "\n",
    "- **Duplicates (Dados Duplicados)**\n",
    "    - Ocorrem quando a mesma informação é registrada mais de uma vez, muitas vezes por usuários diferentes ou em momentos distintos. Isso causa redundância e pode levar a interpretações equivocadas dos dados.\n",
    "\n",
    "- **Wrong Records (Registros Incorretos)**\n",
    "    - São dados inseridos de forma equivocada, geralmente por erro humano. Podem comprometer diretamente a qualidade da base de dados e prejudicar a análise estatística ou o treinamento de modelos de machine learning.\n",
    "\n",
    "- **Incorrect Measurements (Medições Incorretas)**\n",
    "    - Acontecem quando os valores registrados estão errados devido a falhas em sensores, dispositivos de medição ou erros manuais. Por exemplo, um sistema eletrônico que registra o preço de um produto pode gerar medições incorretas caso apresente defeitos.\n",
    "\n",
    "- **Format Errors (Erros de Formato)**\n",
    "    - Ocorrências em que os dados são inseridos com formatos inadequados, dificultando o processamento automático. Um exemplo clássico é inserir valores salariais como “2500” ao invés de “2.5” (em milhares), gerando interpretações incorretas.\n",
    "\n",
    "- **Poor Column Naming (Nomenclatura Inadequada de Colunas)**\n",
    "    - Refere-se a nomes de colunas pouco informativos ou confusos, o que dificulta a compreensão e reutilização do conjunto de dados. Isso se torna especialmente problemático em equipes colaborativas, onde a clareza na estrutura dos dados é essencial.\n",
    "\n",
    "- **Missing Values (Valores Ausentes)**\n",
    "    - São valores esperados em uma ou mais variáveis que não estão disponíveis. Existem diversas estratégias para lidar com esse problema, como a exclusão dos registros incompletos ou a imputação de valores com base em médias, medianas ou modelos preditivos.\n",
    "    \n",
    "- **Outliers (Valores Atípicos)**\n",
    "    - São observações que se distanciam significativamente dos demais dados, podendo ocorrer por erros de entrada, medições de populações diferentes ou, ainda, por representarem eventos raros. A presença de outliers pode distorcer médias, desvios padrão e comprometer a performance de modelos preditivos."
   ]
  },
  {
   "cell_type": "markdown",
   "metadata": {},
   "source": [
    "### Processo CRISP-DM na Prática da Ciência de Dados\n",
    "\n",
    "O CRISP-DM (Cross Industry Standard Process for Data Mining) é um modelo consagrado para o desenvolvimento de projetos em Ciência de Dados. Ele é estruturado de forma cíclica e iterativa, permitindo o refinamento constante das soluções por meio de seis etapas principais. A representação visual destaca a centralidade dos dados e como cada etapa interage com eles, garantindo que decisões sejam sempre baseadas em evidências.\n",
    "\n",
    "![CRISP-DM](imagens/4.%20crisp_dm.png)\n",
    "\n",
    "- **Entendimento do Negócio**\n",
    "    - O processo começa pela compreensão dos objetivos e necessidades do negócio. É essencial traduzir esses objetivos em problemas de dados concretos. Perguntas como “qual é o comportamento de compra dos clientes?” ou “em quais períodos as vendas aumentam?” ajudam a definir o foco do projeto.\n",
    "\n",
    "- **Entendimento dos Dados**\n",
    "    - Com o problema definido, parte-se para o reconhecimento e exploração inicial dos dados disponíveis. Isso envolve identificar as fontes de dados, verificar sua qualidade e entender suas limitações. A etapa também permite descobrir variáveis relevantes e detectar eventuais problemas como dados faltantes ou inconsistentes.\n",
    "    \n",
    "- **Preparação dos Dados**\n",
    "    - Nesta fase, os dados são organizados, tratados e transformados em um formato adequado para a modelagem. Isso pode incluir a normalização de variáveis, preenchimento de valores ausentes, codificação de categorias, entre outras ações. Um bom preparo é fundamental para garantir a qualidade do modelo.\n",
    "\n",
    "- **Modelagem / Análise**\n",
    "    - Com os dados limpos, inicia-se a construção de modelos preditivos ou descritivos. A escolha dos algoritmos e das técnicas estatísticas depende dos objetivos definidos e das características dos dados. Também é comum realizar experimentos para identificar o modelo com melhor desempenho.\n",
    "\n",
    "- **Validação**\n",
    "    - Aqui, os modelos são avaliados por meio de métricas adequadas (como acurácia, precisão, recall etc.) para verificar se estão cumprindo o objetivo. Caso o desempenho esteja abaixo do esperado, pode ser necessário voltar à preparação dos dados ou até revisar o entendimento inicial.\n",
    "    \n",
    "- **Deploy (Implantação)**\n",
    "    - Com o modelo validado, ele é integrado ao ambiente de produção. Isso pode envolver dashboards, automações ou sistemas de recomendação, por exemplo. Além disso, essa etapa deve prever o monitoramento do modelo e a possibilidade de futuras atualizações, mantendo o ciclo em constante melhoria."
   ]
  },
  {
   "cell_type": "markdown",
   "metadata": {},
   "source": [
    "### Diferença entre análise, ciência e engenharia de dados\n",
    "\n",
    "- **Análise de Dados**\n",
    "    - A Análise de Dados tem como principal objetivo interpretar dados existentes para identificar padrões e responder a perguntas específicas de negócios. Essa prática foca na compreensão do que aconteceu até o momento, ou seja, analisa o histórico para gerar insights que apoiem a tomada de decisões. O analista de dados trabalha com dados estruturados, buscando relações, tendências e comportamentos com base em registros passados.\n",
    "\n",
    "    - As habilidades essenciais para essa função incluem conhecimento de estatística, ferramentas de visualização de dados (como Power BI ou Tableau) e uma boa compreensão do contexto de negócio. Suas tarefas envolvem examinar conjuntos de dados, aplicar técnicas estatísticas, criar relatórios e dashboards. Por exemplo, em uma loja de roupas, o analista pode identificar quais categorias de produtos têm maior saída e quais perfis de clientes compram cada tipo, ajudando na definição de estratégias de marketing e estoque.\n",
    "\n",
    "- **Ciência de Dados**\n",
    "    - A Ciência de Dados é uma área mais abrangente que engloba a Análise de Dados, mas vai além. O foco está em extrair valor dos dados utilizando modelos matemáticos, estatísticos e técnicas de machine learning para prever comportamentos e antecipar tendências. O cientista de dados precisa entender as análises feitas anteriormente para planejar modelos preditivos coerentes com os objetivos do negócio.\n",
    "\n",
    "    - Essa área exige habilidades em programação (principalmente Python ou R), estatística avançada, aprendizado de máquina e manipulação de grandes volumes de dados. Entre suas tarefas estão a limpeza e preparação dos dados, desenvolvimento de modelos preditivos e interpretação de resultados complexos. No mesmo exemplo da loja de roupas, o cientista de dados pode criar um modelo para prever quais produtos terão mais saída nas próximas estações, considerando dados históricos de vendas, sazonalidade e até tendências de moda.\n",
    "\n",
    "- **Engenharia de Dados**\n",
    "    - A Engenharia de Dados é responsável por criar e manter toda a infraestrutura necessária para que os dados possam ser coletados, armazenados, organizados e acessados de maneira eficiente. É uma área que garante que os dados estejam disponíveis, limpos e estruturados, facilitando o trabalho de analistas e cientistas. O engenheiro de dados cuida do design de bancos de dados, da criação de pipelines de dados (fluxos de entrada e processamento) e da performance dos sistemas de dados.\n",
    "    \n",
    "    - Esse profissional precisa dominar bancos de dados (relacionais e não-relacionais), linguagens como SQL e Python, e técnicas de ETL (Extract, Transform, Load). Por exemplo, em uma loja de roupas com filiais em várias cidades, o engenheiro de dados pode projetar um sistema para captar os dados de vendas em tempo real de todas as unidades, garantindo que essas informações cheguem rapidamente e de forma organizada ao time de análise e ciência de dados."
   ]
  }
 ],
 "metadata": {
  "kernelspec": {
   "display_name": "Python 3",
   "language": "python",
   "name": "python3"
  },
  "language_info": {
   "name": "python",
   "version": "3.13.1"
  }
 },
 "nbformat": 4,
 "nbformat_minor": 2
}
