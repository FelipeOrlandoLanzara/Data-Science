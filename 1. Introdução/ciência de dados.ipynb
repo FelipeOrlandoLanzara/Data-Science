{
 "cells": [
  {
   "cell_type": "markdown",
   "metadata": {},
   "source": [
    "# Tudo sobre Ciência de Dados"
   ]
  },
  {
   "cell_type": "markdown",
   "metadata": {},
   "source": [
    "### O que é Ciência de Dados\n",
    "\n",
    "- Ciência de Dados é uma área que combina técnicas de matemática, estatística, computação, aprendizado de máquina e conhecimento de domínio (contexto da aplicação) para extrair insights (informações valiosas), proporcionando conhecimento sobre os dados.\n",
    "\n",
    "- Ela envolve todo o processo de trabalho com dados: desde a coleta, organização e tratamento, até a análise e interpretação dos resultados, tendo como objetivo apoiar a tomada de decisões, descobrir padrões ocultos e prever comportamentos futuros.\n",
    "\n",
    "- Podemos usar um exemplo: os dados são como o petróleo — sozinhos, não têm valor algum. Porém, quando refinados (utilizando técnicas da Ciência de Dados), transformam-se em um produto extremamente valioso."
   ]
  },
  {
   "cell_type": "markdown",
   "metadata": {
    "vscode": {
     "languageId": "plaintext"
    }
   },
   "source": [
    "### Os 3 pilares da Ciência de Dados\n",
    "\n",
    "![3 Pilares](imagens/1.%203_pilares.png)\n",
    "\n",
    "- **Tecnologia**\n",
    "    - Refere-se ao uso de linguagens de programação (principalmente Python e R), ferramentas computacionais e ambientes de desenvolvimento. É por meio da tecnologia que todo o conhecimento teórico é colocado em prática, permitindo a coleta, armazenamento, manipulação e modelagem dos dados em problemas reais.\n",
    "- **Negócio**\n",
    "    - Envolve o conhecimento de domínio, ou seja, entender profundamente o contexto da área onde o problema está inserido (como finanças, saúde e logística). Esse pilar é essencial para interpretar os dados de forma correta, identificar oportunidades e aplicar soluções que façam sentido para os objetivos estratéticos da organização.\n",
    "- **Matemática**\n",
    "    - Compreende o uso de conceitos estatísticos, álgebra linear, cálculo e outras áreas matemáticas para entender padrões, fazer inferências e desenvolver modelos analíticos. Esses fundamentos ajudam a garantir maior precisão nas análises e nas previsões."
   ]
  },
  {
   "cell_type": "markdown",
   "metadata": {},
   "source": [
    "### Pirâmide dos Dados\n",
    "\n",
    "![Pirâmide dos Dados](imagens/2.%20piramide.png)\n",
    "\n",
    "A pirâmide representa a transformação dos dados em inteligência de negócios. Dados brutos, que muitas vezes estão apenas em planilhas ou documentos, por si só não têm valor estratégico. O diferencial está em como esses dados são organizados, analisados e interpretados para gerar conhecimento e embasar decisões que trazem vantagem competitiva.\n",
    "\n",
    "- **Dados**\n",
    "    - Dados são registros brutos de eventos passados, onde isoladamente, não possuem significado algum - podem ser números, palavras ou sinais, sem contexto ou interpretação.\n",
    "- **Informações**\n",
    "    - A informação surge quando os dados são processados, organizados ou contextualizados. Ela permite responder perguntas como \"quem?\", \"quando?\" ou \"onde?\", trazendo um pouco mais de compreensão.\n",
    "- **Conhecimento**\n",
    "    - O conhecimento é gerado a partir da análise e interpretação das informações. É quando conseguimos entender o \"porquê\" das coisas, extraindo significado, padrões e relações entre os dados.\n",
    "- **Decisão**\n",
    "    - A decisão representa o nível mais alto da pirâmide. Aqui, o conhecimento é aplicado de forma estratégica, orientando ações que podem gerar vantagem competitiva, melhorias operacionais ou inovação."
   ]
  },
  {
   "cell_type": "markdown",
   "metadata": {},
   "source": [
    "### Tipos de Dados\n",
    "\n",
    "![Tipos de Dados](imagens/3.%20tipos_dados.png)\n",
    "\n",
    "- **Dados Estruturados**\n",
    "    - São dados organizados em um formato padronizado, como tabelas ou planilhas, que facilitam a análise e o processamento.\n",
    "    - Exemplos: registros de vendas, cadastros de clientes e informações armazenadas em bancos de dados relacionais.\n",
    "- **Dados Semiestruturados**\n",
    "    - Possuem alguma organização, mas não seguem o mesmo nível de rigidez dos dados estruturados. Eles não estão armazenados em bancos relacionais, mas ainda contêm marcadores ou tags que facilitam a identificação das informações.\n",
    "    - Exemplos: arquivos XML, JSON, logs de sistemas e alguns tipos de e-mails.\n",
    "- **Dados Não Estruturados**\n",
    "    - São dados que não possuem nenhuma estrutura predefinida, o que dificulta sua organização e análise automatizada.\n",
    "    - Exemplos: textos livres de e-mails, postagens em redes sociais, imagens, áudios, vídeos e transcrições de chamadas de atendimento ao cliente."
   ]
  }
 ],
 "metadata": {
  "language_info": {
   "name": "python"
  }
 },
 "nbformat": 4,
 "nbformat_minor": 2
}
