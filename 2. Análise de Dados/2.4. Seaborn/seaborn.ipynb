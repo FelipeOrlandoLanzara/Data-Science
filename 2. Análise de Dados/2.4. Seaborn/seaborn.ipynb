{
 "cells": [
  {
   "cell_type": "markdown",
   "id": "80193dce",
   "metadata": {},
   "source": [
    "# Seaborn\n",
    "\n",
    "Construída sobre a Matplotlib, a biblioteca Seaborn facilita a criação de visualizações estatísticas com foco em simplicidade e estética. Ela oferece funções de alto nível para gerar gráficos informativos com poucas linhas de código, além de integração com os DataFrames do Pandas. Seaborn é ideal para explorar relações entre variáveis, identificar padrões e apresentar insights de maneira visualmente atrativa."
   ]
  }
 ],
 "metadata": {
  "language_info": {
   "name": "python"
  }
 },
 "nbformat": 4,
 "nbformat_minor": 5
}
