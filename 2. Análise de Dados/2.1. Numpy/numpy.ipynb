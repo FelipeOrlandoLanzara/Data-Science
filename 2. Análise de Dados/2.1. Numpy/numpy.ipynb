{
 "cells": [
  {
   "cell_type": "markdown",
   "id": "0ef13d22",
   "metadata": {},
   "source": [
    "# Numpy\n",
    "\n",
    "Para iniciar a etapa de análise de dados, é essencial conhecer as principais ferramentas utilizadas nesse processo. A biblioteca NumPy é uma das mais fundamentais na base do ecossistema de ciência de dados em Python. Voltada para o trabalho com arrays e operações numéricas de alta performance, ela fornece estruturas eficientes e funções otimizadas para cálculos matemáticos e manipulação de dados, servindo como suporte para diversas outras bibliotecas e aplicações analíticas."
   ]
  },
  {
   "cell_type": "markdown",
   "id": "99db937f",
   "metadata": {},
   "source": [
    "### Arrays e Listas\n",
    "\n",
    "Arrays são estruturas fundamentais em ciência de dados por permitirem o armazenamento e a manipulação eficiente de grandes volumes de dados numéricos. Eles tornam cálculos matemáticos mais rápidos e simples graças às operações vetorizadas.\n",
    "\n",
    "- **Array Numpy**\n",
    "    - É uma estrutura de dados que armazena elementos de um único tipo, o que resulta em maior eficiência de memória e desempenho em comparação com listas.\n",
    "    - Permite realizar operações matemáticas de forma vetorizada (aplicar operações matemáticas em todos os elementos do array ao mesmo tempo), sem a necessidade de loops.\n",
    "    - Caso receba elementos de tipos diferentes, converte todos para o tipo mais genérico. Por exemplo, se houver inteiros e uma string, todos os elementos serão convertidos para string.\n",
    "\n",
    "- **Listas**\n",
    "    - Uma lista é uma das estruturas de dados mais fundamentais do Python.\n",
    "    - Permite armazenar qualquer tipo de dado: números, strings, outras listas, objetos, etc., mesmo misturados entre si.\n",
    "    - É uma estrutura mutável, ou seja, os elementos podem ser alterados, adicionados ou removidos após a criação da lista.\n",
    "\n",
    "Em Python, listas são criadas utilizando colchetes `[]`, enquanto arrays do NumPy são criados com a função `np.array()`. Veja abaixo um exemplo de como criar ambos com os mesmos valores:"
   ]
  },
  {
   "cell_type": "code",
   "execution_count": 1,
   "id": "243a6e58",
   "metadata": {},
   "outputs": [],
   "source": [
    "import numpy as np \n",
    "\n",
    "# criando uma lista\n",
    "lista = [1, 2, 3, 4, 5, 6]\n",
    "\n",
    "# criando um array numpy\n",
    "array = np.array([1, 2, 3, 4, 5, 6])"
   ]
  },
  {
   "cell_type": "markdown",
   "id": "85afde32",
   "metadata": {},
   "source": [
    "### Diferenças entre Arrays e Listas\n",
    "\n",
    "- **Tipos de Dados**\n",
    "    - **Listas:** Podem conter elementos de tipos diferentes (por exemplo, números, strings, listas dentro de listas).\n",
    "    - **Arrays:** Armazenam elementos de um único tipo. Se houver elementos de tipos diferentes, o NumPy converte todos para o tipo mais genérico (por exemplo, tudo vira string).\n",
    "\n",
    "- **Operações Matemáticas**\n",
    "    - **Listas:** Não suportam operações matemáticas diretamente sobre todos os elementos. É necessário iterar com `for` ou usar `list comprehensions`.\n",
    "    - **Arrays:** Permitem realizar operações matemáticas diretamente de forma vetorizada, ou seja, operando sobre todos os elementos ao mesmo tempo (ex: `array + 2`, `array * 3`).\n",
    "\n",
    "- **Funcionalidades**\n",
    "    - **Listas:** São versáteis, mas limitadas para operações numéricas. Precisam de código adicional ou bibliotecas externas para estatísticas e álgebra linear.\n",
    "    - **Arrays:** Têm diversas funções integradas otimizadas, como `sum()`, `mean()`, `std()`, `dot()`, além de suporte a operações entre matrizes, broadcasting, entre outras.\n",
    "\n",
    "- **Desempenho**\n",
    "    - **Listas:** Mais lentas e menos eficientes em memória para grandes volumes de dados numéricos.\n",
    "    - **Arrays:** Mais rápidos e eficientes, especialmente em cálculos com grandes conjuntos de dados."
   ]
  },
  {
   "cell_type": "markdown",
   "id": "8cebb586",
   "metadata": {},
   "source": [
    "### Exemplo de Operações Matemáticas\n",
    "\n",
    "Abaixo será apresentada a diferença entre realizar uma operação matemática utilizando listas e arrays, para evidenciar a diferença entre ambos."
   ]
  },
  {
   "cell_type": "code",
   "execution_count": null,
   "id": "cfe56f9f",
   "metadata": {},
   "outputs": [],
   "source": []
  }
 ],
 "metadata": {
  "kernelspec": {
   "display_name": "Python 3",
   "language": "python",
   "name": "python3"
  },
  "language_info": {
   "codemirror_mode": {
    "name": "ipython",
    "version": 3
   },
   "file_extension": ".py",
   "mimetype": "text/x-python",
   "name": "python",
   "nbconvert_exporter": "python",
   "pygments_lexer": "ipython3",
   "version": "3.13.1"
  }
 },
 "nbformat": 4,
 "nbformat_minor": 5
}
