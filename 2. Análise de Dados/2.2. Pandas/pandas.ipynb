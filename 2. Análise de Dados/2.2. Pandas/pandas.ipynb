{
 "cells": [
  {
   "cell_type": "markdown",
   "id": "5800b3e2",
   "metadata": {},
   "source": [
    "# Pandas\n",
    "\n",
    "A biblioteca Pandas é uma das mais populares e poderosas ferramentas para manipulação e análise de dados em Python. Ela oferece estruturas de dados flexíveis, como DataFrames, que permitem organizar, limpar, transformar e explorar grandes volumes de dados de forma intuitiva. Com Pandas, é possível realizar operações como filtragem, agregação e fusão de dados com facilidade, sendo indispensável em qualquer fluxo de trabalho analítico."
   ]
  }
 ],
 "metadata": {
  "language_info": {
   "name": "python"
  }
 },
 "nbformat": 4,
 "nbformat_minor": 5
}
